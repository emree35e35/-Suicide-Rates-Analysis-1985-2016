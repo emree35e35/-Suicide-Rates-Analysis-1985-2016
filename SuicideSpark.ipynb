{
 "cells": [
  {
   "cell_type": "markdown",
   "metadata": {},
   "source": [
    "# General Analysis of Suicide Rates\n",
    "\n",
    "The aim is to make general analysis of suicide rates.\n",
    "\n",
    "\n",
    "* Dataset : https://www.kaggle.com/russellyates88/suicide-rates-overview-1985-to-2016\n",
    "* Note: This project not finished yet."
   ]
  },
  {
   "cell_type": "markdown",
   "metadata": {},
   "source": [
    "# Content\n",
    "1. Load and Check Data\n",
    "1. Variable Description\n",
    "1. Basic Data Analysis\n",
    "1. Question"
   ]
  },
  {
   "cell_type": "markdown",
   "metadata": {},
   "source": [
    "# 1) Load and Check Data"
   ]
  },
  {
   "cell_type": "code",
   "execution_count": 1,
   "metadata": {},
   "outputs": [
    {
     "data": {
      "text/html": [
       "\n",
       "        <div>\n",
       "            <p><b>SparkContext</b></p>\n",
       "\n",
       "            <p><a href=\"http://DESKTOP-TABR4OL.mshome.net:4040\">Spark UI</a></p>\n",
       "\n",
       "            <dl>\n",
       "              <dt>Version</dt>\n",
       "                <dd><code>v3.0.1</code></dd>\n",
       "              <dt>Master</dt>\n",
       "                <dd><code>local</code></dd>\n",
       "              <dt>AppName</dt>\n",
       "                <dd><code>SuicideAnalysis</code></dd>\n",
       "            </dl>\n",
       "        </div>\n",
       "        "
      ],
      "text/plain": [
       "<SparkContext master=local appName=SuicideAnalysis>"
      ]
     },
     "execution_count": 1,
     "metadata": {},
     "output_type": "execute_result"
    }
   ],
   "source": [
    "import findspark\n",
    "\n",
    "import pandas\n",
    "findspark.init(\"C:\\spark\")\n",
    "import pyspark\n",
    "from pyspark.sql import SparkSession\n",
    "from pyspark.conf import SparkConf \n",
    "from pyspark import SparkContext \n",
    "\n",
    "spark=SparkSession.builder \\\n",
    "    .master(\"local\") \\\n",
    "    .appName(\"SuicideAnalysis\") \\\n",
    "    .getOrCreate()\n",
    "\n",
    "sc = spark.sparkContext\n",
    "sc"
   ]
  },
  {
   "cell_type": "code",
   "execution_count": 2,
   "metadata": {
    "scrolled": true
   },
   "outputs": [
    {
     "data": {
      "text/plain": [
       "DataFrame[country: string, year: int, sex: string, age: string, suicides_no: int, population: int, suicides/100k pop: double, country-year: string, HDI for year: double,  gdp_for_year ($) : string, gdp_per_capita ($): int, generation: string]"
      ]
     },
     "execution_count": 2,
     "metadata": {},
     "output_type": "execute_result"
    }
   ],
   "source": [
    "suicide = spark.read.csv(\"master.csv\",header=True,inferSchema=True,sep=\",\")\n",
    "suicide.cache()"
   ]
  },
  {
   "cell_type": "code",
   "execution_count": 3,
   "metadata": {},
   "outputs": [
    {
     "name": "stdout",
     "output_type": "stream",
     "text": [
      "+-------+----+------+-----------+-----------+----------+-----------------+------------+------------+------------------+------------------+---------------+\n",
      "|country|year|   sex|        age|suicides_no|population|suicides/100k pop|country-year|HDI for year| gdp_for_year ($) |gdp_per_capita ($)|     generation|\n",
      "+-------+----+------+-----------+-----------+----------+-----------------+------------+------------+------------------+------------------+---------------+\n",
      "|Albania|1987|  male|15-24 years|         21|    312900|             6.71| Albania1987|        null|     2,156,624,900|               796|   Generation X|\n",
      "|Albania|1987|  male|35-54 years|         16|    308000|             5.19| Albania1987|        null|     2,156,624,900|               796|         Silent|\n",
      "|Albania|1987|female|15-24 years|         14|    289700|             4.83| Albania1987|        null|     2,156,624,900|               796|   Generation X|\n",
      "|Albania|1987|  male|  75+ years|          1|     21800|             4.59| Albania1987|        null|     2,156,624,900|               796|G.I. Generation|\n",
      "|Albania|1987|  male|25-34 years|          9|    274300|             3.28| Albania1987|        null|     2,156,624,900|               796|        Boomers|\n",
      "|Albania|1987|female|  75+ years|          1|     35600|             2.81| Albania1987|        null|     2,156,624,900|               796|G.I. Generation|\n",
      "|Albania|1987|female|35-54 years|          6|    278800|             2.15| Albania1987|        null|     2,156,624,900|               796|         Silent|\n",
      "|Albania|1987|female|25-34 years|          4|    257200|             1.56| Albania1987|        null|     2,156,624,900|               796|        Boomers|\n",
      "|Albania|1987|  male|55-74 years|          1|    137500|             0.73| Albania1987|        null|     2,156,624,900|               796|G.I. Generation|\n",
      "|Albania|1987|female| 5-14 years|          0|    311000|              0.0| Albania1987|        null|     2,156,624,900|               796|   Generation X|\n",
      "+-------+----+------+-----------+-----------+----------+-----------------+------------+------------+------------------+------------------+---------------+\n",
      "only showing top 10 rows\n",
      "\n"
     ]
    }
   ],
   "source": [
    "#show first 10 data\n",
    "suicide.show(10)"
   ]
  },
  {
   "cell_type": "code",
   "execution_count": 4,
   "metadata": {},
   "outputs": [],
   "source": [
    "# renaming column name, I did this because there may be problems for future analysis.\n",
    "suicide=(suicide   \n",
    "        .withColumnRenamed('country','Country')\n",
    "        .withColumnRenamed('year', 'Year')\n",
    "        .withColumnRenamed('sex','Sex')\n",
    "        .withColumnRenamed('age','Age')\n",
    "        .withColumnRenamed('suicides_no','SuicidesNo')\n",
    "        .withColumnRenamed('population','Population')\n",
    "        .withColumnRenamed('suicides/100k pop','Suicides100kPop')\n",
    "        .withColumnRenamed('country-year','CountryYear')\n",
    "        .withColumnRenamed('HDI for year','HDIForYear')\n",
    "        .withColumnRenamed(' gdp_for_year ($) ','GdpForYear')\n",
    "         .withColumnRenamed('gdp_per_capita ($)','GdpPerCapita')\n",
    "        .withColumnRenamed('generation','Generation'))\n"
   ]
  },
  {
   "cell_type": "code",
   "execution_count": 5,
   "metadata": {},
   "outputs": [
    {
     "name": "stdout",
     "output_type": "stream",
     "text": [
      "root\n",
      " |-- Country: string (nullable = true)\n",
      " |-- Year: integer (nullable = true)\n",
      " |-- Sex: string (nullable = true)\n",
      " |-- Age: string (nullable = true)\n",
      " |-- SuicidesNo: integer (nullable = true)\n",
      " |-- Population: integer (nullable = true)\n",
      " |-- Suicides100kPop: double (nullable = true)\n",
      " |-- CountryYear: string (nullable = true)\n",
      " |-- HDIForYear: double (nullable = true)\n",
      " |-- GdpForYear: string (nullable = true)\n",
      " |-- GdpPerCapita: integer (nullable = true)\n",
      " |-- Generation: string (nullable = true)\n",
      "\n"
     ]
    }
   ],
   "source": [
    "suicide.printSchema()"
   ]
  },
  {
   "cell_type": "code",
   "execution_count": 6,
   "metadata": {},
   "outputs": [
    {
     "name": "stdout",
     "output_type": "stream",
     "text": [
      "+-------+----------+------------------+------+-----------+------------------+------------------+------------------+--------------+-------------------+-----------------+------------------+----------+\n",
      "|summary|   Country|              Year|   Sex|        Age|        SuicidesNo|        Population|   Suicides100kPop|   CountryYear|         HDIForYear|       GdpForYear|      GdpPerCapita|Generation|\n",
      "+-------+----------+------------------+------+-----------+------------------+------------------+------------------+--------------+-------------------+-----------------+------------------+----------+\n",
      "|  count|     27820|             27820| 27820|      27820|             27820|             27820|             27820|         27820|               8364|            27820|             27820|     27820|\n",
      "|   mean|      null|2001.2583752695903|  null|       null|242.57440690150972|1844793.6173975556|12.816097411933894|          null| 0.7766011477761785|             null|16866.464414090584|      null|\n",
      "| stddev|      null| 8.469055024441408|  null|       null| 902.0479168336403|3911779.4417563565| 18.96151101450326|          null|0.09336670859029984|             null|18887.576472205576|      null|\n",
      "|    min|   Albania|              1985|female|15-24 years|                 0|               278|               0.0|   Albania1987|              0.483|1,002,219,052,968|               251|   Boomers|\n",
      "|    25%|      null|              1995|  null|       null|                 3|             97425|              0.92|          null|              0.713|             null|              3447|      null|\n",
      "|    50%|      null|              2002|  null|       null|                25|            430100|              5.99|          null|              0.779|             null|              9372|      null|\n",
      "|    75%|      null|              2008|  null|       null|               131|           1485754|             16.61|          null|              0.944|             null|             24874|      null|\n",
      "|    max|Uzbekistan|              2016|  male|  75+ years|             22338|          43805214|            224.97|Uzbekistan2014|              0.944|      997,007,926|            126352|    Silent|\n",
      "+-------+----------+------------------+------+-----------+------------------+------------------+------------------+--------------+-------------------+-----------------+------------------+----------+\n",
      "\n"
     ]
    }
   ],
   "source": [
    "suicide.summary().show()"
   ]
  },
  {
   "cell_type": "markdown",
   "metadata": {},
   "source": [
    "# 2) Variable Description\n",
    "1. Country\n",
    "1. Year\n",
    "1. Sex\n",
    "1. Age\n",
    "1. SuicidesNo\n",
    "1. Population\n",
    "1. Suicides100kPop\n",
    "1. CountryYear\n",
    "1. HDIForYear ** Human Developing index\n",
    "1. GdpForYear ** Gross Domestic Product (Money)\n",
    "1. GdpPerCapita ** Gross Domestic Product per person(Money)\n",
    "1. Generation"
   ]
  },
  {
   "cell_type": "code",
   "execution_count": 7,
   "metadata": {},
   "outputs": [
    {
     "name": "stdout",
     "output_type": "stream",
     "text": [
      "root\n",
      " |-- Country: string (nullable = true)\n",
      " |-- Year: integer (nullable = true)\n",
      " |-- Sex: string (nullable = true)\n",
      " |-- Age: string (nullable = true)\n",
      " |-- SuicidesNo: integer (nullable = true)\n",
      " |-- Population: integer (nullable = true)\n",
      " |-- Suicides100kPop: double (nullable = true)\n",
      " |-- CountryYear: string (nullable = true)\n",
      " |-- HDIForYear: double (nullable = true)\n",
      " |-- GdpForYear: string (nullable = true)\n",
      " |-- GdpPerCapita: integer (nullable = true)\n",
      " |-- Generation: string (nullable = true)\n",
      "\n"
     ]
    }
   ],
   "source": [
    "suicide.printSchema()\n",
    "#it shows the schema of suicide"
   ]
  },
  {
   "cell_type": "markdown",
   "metadata": {},
   "source": [
    "##### We understand that there is no null data except \"HDI for year\"\n",
    "* float64(2): Suicides100kPop, HDIForYear\n",
    "* int64(4): Year,SuicidesNo,Population,GdpPerCapita\n",
    "* object(6): Country,Sex,Age,CountryYear,GdpForYear,Generation"
   ]
  },
  {
   "cell_type": "markdown",
   "metadata": {},
   "source": [
    "## 3) Basic Data Analysis\n",
    "* Categorical Variable: Country, Year, Sex, CountryYear, Generation\n",
    "* Numerical Variable: Age, SuicidesNo, Population, Suicides100kPop, HDIForYear, GdpForYear, GdpPerCapita"
   ]
  },
  {
   "cell_type": "markdown",
   "metadata": {},
   "source": [
    "### a) Mean of suicide according to Age and Sex"
   ]
  },
  {
   "cell_type": "code",
   "execution_count": 8,
   "metadata": {},
   "outputs": [
    {
     "name": "stdout",
     "output_type": "stream",
     "text": [
      "+-----------+------+------------------+\n",
      "|        Age|   Sex|   avg(SuicidesNo)|\n",
      "+-----------+------+------------------+\n",
      "|15-24 years|  male|272.77251184834125|\n",
      "|  75+ years|  male|185.75355450236967|\n",
      "|35-54 years|female|218.10986643688065|\n",
      "|35-54 years|  male| 838.3920723825937|\n",
      "|25-34 years|female| 89.97113313227057|\n",
      "|55-74 years|  male| 529.2576475657045|\n",
      "|55-74 years|female|185.28048255062473|\n",
      "|15-24 years|female| 75.58681602757432|\n",
      "|  75+ years|female| 95.64153382162861|\n",
      "|25-34 years|  male| 394.2649719948298|\n",
      "| 5-14 years|female|7.3739696312364424|\n",
      "| 5-14 years|  male|15.300216919739697|\n",
      "+-----------+------+------------------+\n",
      "\n"
     ]
    }
   ],
   "source": [
    "a=suicide.drop('HDIForYear','GdpPerCapita','Population','Year','Suicides100kPop')\n",
    "a.groupby(\"Age\",\"Sex\").mean().show()\n"
   ]
  },
  {
   "cell_type": "markdown",
   "metadata": {},
   "source": [
    "* As you can see,the rate for the age group 5-14 is very low, but for the age group 35-54 it is very high.\n",
    "* **Gördüğünüz gibi 5-14 yaş ortalamasında intihar oranı çok düşük, ama 35-54 yaş grubu için bu oran çok yüksek.**\n",
    "\n"
   ]
  },
  {
   "cell_type": "markdown",
   "metadata": {},
   "source": [
    "\n",
    "* It is observed from this table that men are more likely to commit suicide than women.\n",
    "* **Bu Tablodan erkeklerin kadınlara göre daha çok intihara meyilli olduğu gözlenmektedir.**\n"
   ]
  },
  {
   "cell_type": "markdown",
   "metadata": {},
   "source": [
    "### b)Total suicide by Year"
   ]
  },
  {
   "cell_type": "code",
   "execution_count": 9,
   "metadata": {},
   "outputs": [
    {
     "name": "stdout",
     "output_type": "stream",
     "text": [
      "+----+---------------+\n",
      "|Year|sum(SuicidesNo)|\n",
      "+----+---------------+\n",
      "|1985|         116063|\n",
      "|1986|         120670|\n",
      "|1987|         126842|\n",
      "|1988|         121026|\n",
      "|1989|         160244|\n",
      "|1990|         193361|\n",
      "|1991|         198020|\n",
      "|1992|         211473|\n",
      "|1993|         221565|\n",
      "|1994|         232063|\n",
      "|1995|         243544|\n",
      "|1996|         246725|\n",
      "|1997|         240745|\n",
      "|1998|         249591|\n",
      "|1999|         256119|\n",
      "|2000|         255832|\n",
      "|2001|         250652|\n",
      "|2002|         256095|\n",
      "|2003|         256079|\n",
      "|2004|         240861|\n",
      "|2005|         234375|\n",
      "|2006|         233361|\n",
      "|2007|         233408|\n",
      "|2008|         235447|\n",
      "|2009|         243487|\n",
      "|2010|         238702|\n",
      "|2011|         236484|\n",
      "|2012|         230160|\n",
      "|2013|         223199|\n",
      "|2014|         222984|\n",
      "|2015|         203640|\n",
      "|2016|          15603|\n",
      "+----+---------------+\n",
      "\n"
     ]
    }
   ],
   "source": [
    "b=suicide.drop('Suicides100kPop','HDIForYear','GdpPerCapita','Population')\n",
    "b.groupby(\"Year\").sum(\"SuicidesNo\").orderBy(\"Year\").show(50)\n",
    "\n",
    "#nyytotal=b.iloc[:15]\n",
    "#tyytotal=b.iloc[15:]\n"
   ]
  },
  {
   "cell_type": "code",
   "execution_count": 10,
   "metadata": {},
   "outputs": [],
   "source": [
    "nyytotal=b.filter(b.Year < 2000).groupby(\"Year\").sum(\"SuicidesNo\")\n",
    "tyytotal=b.filter(b.Year >= 2000).groupby(\"Year\").sum(\"SuicidesNo\")"
   ]
  },
  {
   "cell_type": "code",
   "execution_count": 11,
   "metadata": {},
   "outputs": [
    {
     "name": "stdout",
     "output_type": "stream",
     "text": [
      "Before 2000s Total Suicide: 2938051\n",
      "+--------------------+\n",
      "|sum(sum(SuicidesNo))|\n",
      "+--------------------+\n",
      "|             2938051|\n",
      "+--------------------+\n",
      "\n",
      "After 2000s Total Suicide : 3810369\n",
      "+--------------------+\n",
      "|sum(sum(SuicidesNo))|\n",
      "+--------------------+\n",
      "|             3810369|\n",
      "+--------------------+\n",
      "\n"
     ]
    }
   ],
   "source": [
    "\n",
    "\n",
    "print(\"Before 2000s Total Suicide: 2938051\")\n",
    "nyytotal.agg({'sum(SuicidesNo)':'sum'}).show()\n",
    "print(\"After 2000s Total Suicide : 3810369\")\n",
    "tyytotal.agg({'sum(SuicidesNo)':'sum'}).show()"
   ]
  },
  {
   "cell_type": "markdown",
   "metadata": {},
   "source": [
    "* As we can see from the results, the number of suicides has increased after the 2000s.\n",
    "* **Sonuçlardan gördüğümüz üzere 2000'lerden sonra intihar sayıları artmış.**"
   ]
  },
  {
   "cell_type": "code",
   "execution_count": 12,
   "metadata": {
    "scrolled": true
   },
   "outputs": [
    {
     "name": "stdout",
     "output_type": "stream",
     "text": [
      "+----+---------------+\n",
      "|Year|sum(SuicidesNo)|\n",
      "+----+---------------+\n",
      "|2016|          15603|\n",
      "|1985|         116063|\n",
      "|1986|         120670|\n",
      "|1988|         121026|\n",
      "|1987|         126842|\n",
      "|1989|         160244|\n",
      "|1990|         193361|\n",
      "|1991|         198020|\n",
      "|2015|         203640|\n",
      "|1992|         211473|\n",
      "|1993|         221565|\n",
      "|2014|         222984|\n",
      "|2013|         223199|\n",
      "|2012|         230160|\n",
      "|1994|         232063|\n",
      "|2006|         233361|\n",
      "|2007|         233408|\n",
      "|2005|         234375|\n",
      "|2008|         235447|\n",
      "|2011|         236484|\n",
      "+----+---------------+\n",
      "only showing top 20 rows\n",
      "\n"
     ]
    }
   ],
   "source": [
    "# 2016  en düşük intihar sayısına sahip yıldır\n",
    "# Year 2016 has the lowest number of suicides.\n",
    "c=suicide.drop('Suicides100kPop','HDIForYear','GdpPerCapita','Population')\n",
    "c=c.groupby(\"Year\").sum(\"SuicidesNo\").orderBy(\"sum(SuicidesNo)\")\n",
    "c.show()"
   ]
  },
  {
   "cell_type": "code",
   "execution_count": 22,
   "metadata": {
    "scrolled": false
   },
   "outputs": [
    {
     "data": {
      "image/png": "[encoded data removed]",
      "text/plain": [
       "<Figure size 720x720 with 1 Axes>"
      ]
     },
     "metadata": {
      "needs_background": "light"
     },
     "output_type": "display_data"
    }
   ],
   "source": [
    "import seaborn as sns\n",
    "import matplotlib.pyplot as plt\n",
    "\n",
    "df_nyytotal=nyytotal.toPandas()\n",
    "df_nyytotal=df_nyytotal.reset_index()\n",
    "yearsuicide=sns.factorplot(data=df_nyytotal,x=\"Year\",y=\"sum(SuicidesNo)\",kind=\"bar\",size=10)\n",
    "plt.show()"
   ]
  },
  {
   "cell_type": "code",
   "execution_count": 14,
   "metadata": {},
   "outputs": [
    {
     "data": {
      "image/png": "[encoded data removed]",
      "text/plain": [
       "<Figure size 720x720 with 1 Axes>"
      ]
     },
     "metadata": {
      "needs_background": "light"
     },
     "output_type": "display_data"
    }
   ],
   "source": [
    "import seaborn as sns\n",
    "import matplotlib.pyplot as plt\n",
    "\n",
    "df_tyytotal=tyytotal.toPandas()\n",
    "df_tyytotal=df_tyytotal.reset_index()\n",
    "yearsuicide=sns.factorplot(data=df_tyytotal,x=\"Year\",y=\"sum(SuicidesNo)\",kind=\"bar\",size=10)\n",
    "plt.show()"
   ]
  },
  {
   "cell_type": "markdown",
   "metadata": {},
   "source": [
    "* Probably our data set has no all data about 2016 that's why 2016 has lowest number\n",
    "* After 2009 Total suicide has started to decrease\n",
    "* Suicide rate steadily increased until 2001"
   ]
  },
  {
   "cell_type": "markdown",
   "metadata": {},
   "source": [
    "### c) Total Suicide according to Year and Sex\n",
    "#### Female"
   ]
  },
  {
   "cell_type": "code",
   "execution_count": 15,
   "metadata": {},
   "outputs": [],
   "source": [
    "female=suicide.drop('Suicides100kPop','HDIForYear','GdpPerCapita','Population')\n",
    "female=female.filter(female.Sex.like('female')).groupby(\"Year\").sum(\"SuicidesNo\")\n",
    "femalebefore=female.filter(female.Year < 2000)\n",
    "femaleafter=female.filter(female.Year >= 2000)"
   ]
  },
  {
   "cell_type": "code",
   "execution_count": 16,
   "metadata": {},
   "outputs": [
    {
     "name": "stdout",
     "output_type": "stream",
     "text": [
      "For Female Total suicide Before the 2000's: 704942\n",
      "+--------------------+\n",
      "|sum(sum(SuicidesNo))|\n",
      "+--------------------+\n",
      "|              704942|\n",
      "+--------------------+\n",
      "\n",
      "For Female Total suicide After the 2000's: 854568\n",
      "+--------------------+\n",
      "|sum(sum(SuicidesNo))|\n",
      "+--------------------+\n",
      "|              854568|\n",
      "+--------------------+\n",
      "\n"
     ]
    }
   ],
   "source": [
    "print(\"For Female Total suicide Before the 2000's: 704942\")\n",
    "femalebefore.agg({'sum(SuicidesNo)':'sum'}).show()\n",
    "print(\"For Female Total suicide After the 2000's: 854568\")\n",
    "femaleafter.agg({'sum(SuicidesNo)':'sum'}).show()"
   ]
  },
  {
   "cell_type": "markdown",
   "metadata": {},
   "source": [
    "#### Male"
   ]
  },
  {
   "cell_type": "code",
   "execution_count": 17,
   "metadata": {},
   "outputs": [],
   "source": [
    "male=suicide.drop('Suicides100kPop','HDIForYear','GdpPerCapita','Population')\n",
    "male=male.filter(male.Sex.like('male')).groupby(\"Year\").sum(\"SuicidesNo\")\n",
    "malebefore=male.filter(male.Year < 2000)\n",
    "maleafter=male.filter(male.Year >= 2000)"
   ]
  },
  {
   "cell_type": "code",
   "execution_count": 18,
   "metadata": {},
   "outputs": [
    {
     "name": "stdout",
     "output_type": "stream",
     "text": [
      "For Male Total suicide Before the 2000's: 2233109\n",
      "+--------------------+\n",
      "|sum(sum(SuicidesNo))|\n",
      "+--------------------+\n",
      "|             2233109|\n",
      "+--------------------+\n",
      "\n",
      "For Male Total suicide After the 2000's: 2955801\n",
      "+--------------------+\n",
      "|sum(sum(SuicidesNo))|\n",
      "+--------------------+\n",
      "|             2955801|\n",
      "+--------------------+\n",
      "\n"
     ]
    }
   ],
   "source": [
    "print(\"For Male Total suicide Before the 2000's: 2233109\")\n",
    "malebefore.agg({'sum(SuicidesNo)':'sum'}).show()\n",
    "print(\"For Male Total suicide After the 2000's: 2955801\")\n",
    "maleafter.agg({'sum(SuicidesNo)':'sum'}).show()"
   ]
  },
  {
   "cell_type": "markdown",
   "metadata": {},
   "source": [
    "### d) Mean of the Country suicide ratios"
   ]
  },
  {
   "cell_type": "markdown",
   "metadata": {},
   "source": [
    "* First 15 country that has big ratio for suicide"
   ]
  },
  {
   "cell_type": "code",
   "execution_count": 19,
   "metadata": {},
   "outputs": [
    {
     "data": {
      "image/png": "[encoded data removed]",
      "text/plain": [
       "<Figure size 1440x1440 with 1 Axes>"
      ]
     },
     "metadata": {
      "needs_background": "light"
     },
     "output_type": "display_data"
    }
   ],
   "source": [
    "df=suicide.toPandas()\n",
    "df=df.reset_index()\n",
    "\n",
    "meancountry=df.groupby(by=\"Country\").mean().sort_values(by=\"SuicidesNo\" ,ascending=False)\n",
    "meancountry=meancountry.reset_index().head(15)\n",
    "sn=sns.factorplot(data=meancountry,x=\"Country\",y=\"SuicidesNo\",kind=\"bar\",size=20)\n",
    "plt.show()"
   ]
  },
  {
   "cell_type": "markdown",
   "metadata": {},
   "source": [
    "## Question\n",
    "#### Which country has big number for female suicide?\n",
    "##### Hangi ülke en yüksek kadın intihar sayısına sahiptir"
   ]
  },
  {
   "cell_type": "code",
   "execution_count": 20,
   "metadata": {},
   "outputs": [],
   "source": [
    "question=suicide.drop('Suicides100kPop','HDIForYear','GdpPerCapita','Population')\n",
    "question=question.filter(question.Sex.like('female')).groupby(\"Country\").sum()\n",
    "quesstion=question.toPandas()\n",
    "#d=df[(df[\"Sex\"] == \"female\")].groupby(by=\"Country\").sum()\n",
    "#d=d.drop(['Suicides100kPop','HDIForYear','GdpPerCapita','Population','Year'],axis=1)\n",
    "#question=d.groupby(by=\"Country\").mean().sort_values(by=\"SuicidesNo\" ,ascending=False)"
   ]
  },
  {
   "cell_type": "code",
   "execution_count": 21,
   "metadata": {},
   "outputs": [
    {
     "data": {
      "image/png": "[encoded data removed]",
      "text/plain": [
       "<Figure size 1440x1440 with 1 Axes>"
      ]
     },
     "metadata": {
      "needs_background": "light"
     },
     "output_type": "display_data"
    }
   ],
   "source": [
    "d=question.toPandas()\n",
    "d=df[(df[\"Sex\"] == \"female\")].groupby(by=\"Country\").sum()\n",
    "d=d.drop(['Suicides100kPop','HDIForYear','GdpPerCapita','Population','Year'],axis=1)\n",
    "question=d.groupby(by=\"Country\").mean().sort_values(by=\"SuicidesNo\" ,ascending=False)\n",
    "question=question.reset_index().head(15)\n",
    "sn=sns.factorplot(data=question,x=\"Country\",y=\"SuicidesNo\",kind=\"bar\",size=20)\n",
    "plt.show()\n",
    "\n"
   ]
  },
  {
   "cell_type": "code",
   "execution_count": null,
   "metadata": {},
   "outputs": [],
   "source": []
  }
 ],
 "metadata": {
  "kernelspec": {
   "display_name": "Python 3",
   "language": "python",
   "name": "python3"
  },
  "language_info": {
   "codemirror_mode": {
    "name": "ipython",
    "version": 3
   },
   "file_extension": ".py",
   "mimetype": "text/x-python",
   "name": "python",
   "nbconvert_exporter": "python",
   "pygments_lexer": "ipython3",
   "version": "3.7.4"
  }
 },
 "nbformat": 4,
 "nbformat_minor": 2
}
